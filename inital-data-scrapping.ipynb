{
 "metadata": {
  "language_info": {
   "codemirror_mode": {
    "name": "ipython",
    "version": 3
   },
   "file_extension": ".py",
   "mimetype": "text/x-python",
   "name": "python",
   "nbconvert_exporter": "python",
   "pygments_lexer": "ipython3",
   "version": "3.8.5"
  },
  "orig_nbformat": 2,
  "kernelspec": {
   "name": "python3",
   "display_name": "Python 3.8.5 64-bit ('base': conda)"
  },
  "metadata": {
   "interpreter": {
    "hash": "bd5013eff567e402a6f1dad0018ceb1844e52fdb288709b5efb524c5de0aea00"
   }
  },
  "interpreter": {
   "hash": "7b4b4feff2f24a0f0a34464dbe537a36fda679851528fb8735cb41fa49dffb2d"
  }
 },
 "nbformat": 4,
 "nbformat_minor": 2,
 "cells": [
  {
   "source": [
    "# 1. Scrapping Movie Data from IMDB\n",
    "To scrap movie data we found the popular http://www.imdb.com website's legally free database which includes potentially every movie ever produced with information published studio, genre, crew/actors and more.\n",
    "\n"
   ],
   "cell_type": "markdown",
   "metadata": {}
  },
  {
   "cell_type": "code",
   "execution_count": 2,
   "metadata": {},
   "outputs": [],
   "source": [
    "import gzip\n",
    "import pandas as pd\n",
    "from io import BytesIO"
   ]
  },
  {
   "source": [
    "## Reading the compressed file and building a dataframe\n",
    "This database is compressed into a tsv.gz file so we first uncompress it using gzip and save it as a BytesIO object.\n",
    "Now that we have BytesIO object, which is a ``.tsv file`` , we can load it into a dataframe, with ```pd.read_csv()``` with a little change of the seperator from comma to tab."
   ],
   "cell_type": "markdown",
   "metadata": {}
  },
  {
   "cell_type": "code",
   "execution_count": 3,
   "metadata": {},
   "outputs": [
    {
     "output_type": "stream",
     "name": "stderr",
     "text": [
      "D:\\anaconda3\\lib\\site-packages\\IPython\\core\\interactiveshell.py:3146: DtypeWarning: Columns (4,5) have mixed types.Specify dtype option on import or set low_memory=False.\n  has_raised = await self.run_ast_nodes(code_ast.body, cell_name,\n"
     ]
    }
   ],
   "source": [
    "gzip_file = gzip.open(\"./src_data/title.basics.tsv.gz\",\"rb\")\n",
    "csv_file = BytesIO(gzip_file.read())\n",
    "gzip_file.close()\n",
    "data : pd.DataFrame = pd.read_csv(csv_file,sep=\"\\t\")\n"
   ]
  },
  {
   "source": [
    "# Cleaning the dataframe\n",
    "The dataframe we created consists of every movie / short / TV episode ever aired. We will perform some cleaning including dropping irrelevant columns and treating only the movies for later research.\n",
    "\n",
    "## The columns we care about\n",
    "We are interested in tconst which is an exclusive identifier for each movie, primaryTitle and originalTitle which are the given and formal movie names, runtimeMinutes and genres."
   ],
   "cell_type": "markdown",
   "metadata": {}
  },
  {
   "cell_type": "code",
   "execution_count": 4,
   "metadata": {},
   "outputs": [
    {
     "output_type": "execute_result",
     "data": {
      "text/plain": [
       "      tconst titleType            primaryTitle           originalTitle  \\\n",
       "0  tt0000001     short              Carmencita              Carmencita   \n",
       "1  tt0000002     short  Le clown et ses chiens  Le clown et ses chiens   \n",
       "2  tt0000003     short          Pauvre Pierrot          Pauvre Pierrot   \n",
       "3  tt0000004     short             Un bon bock             Un bon bock   \n",
       "4  tt0000005     short        Blacksmith Scene        Blacksmith Scene   \n",
       "\n",
       "  isAdult startYear endYear runtimeMinutes                    genres  \n",
       "0       0      1894      \\N              1         Documentary,Short  \n",
       "1       0      1892      \\N              5           Animation,Short  \n",
       "2       0      1892      \\N              4  Animation,Comedy,Romance  \n",
       "3       0      1892      \\N             12           Animation,Short  \n",
       "4       0      1893      \\N              1              Comedy,Short  "
      ],
      "text/html": "<div>\n<style scoped>\n    .dataframe tbody tr th:only-of-type {\n        vertical-align: middle;\n    }\n\n    .dataframe tbody tr th {\n        vertical-align: top;\n    }\n\n    .dataframe thead th {\n        text-align: right;\n    }\n</style>\n<table border=\"1\" class=\"dataframe\">\n  <thead>\n    <tr style=\"text-align: right;\">\n      <th></th>\n      <th>tconst</th>\n      <th>titleType</th>\n      <th>primaryTitle</th>\n      <th>originalTitle</th>\n      <th>isAdult</th>\n      <th>startYear</th>\n      <th>endYear</th>\n      <th>runtimeMinutes</th>\n      <th>genres</th>\n    </tr>\n  </thead>\n  <tbody>\n    <tr>\n      <th>0</th>\n      <td>tt0000001</td>\n      <td>short</td>\n      <td>Carmencita</td>\n      <td>Carmencita</td>\n      <td>0</td>\n      <td>1894</td>\n      <td>\\N</td>\n      <td>1</td>\n      <td>Documentary,Short</td>\n    </tr>\n    <tr>\n      <th>1</th>\n      <td>tt0000002</td>\n      <td>short</td>\n      <td>Le clown et ses chiens</td>\n      <td>Le clown et ses chiens</td>\n      <td>0</td>\n      <td>1892</td>\n      <td>\\N</td>\n      <td>5</td>\n      <td>Animation,Short</td>\n    </tr>\n    <tr>\n      <th>2</th>\n      <td>tt0000003</td>\n      <td>short</td>\n      <td>Pauvre Pierrot</td>\n      <td>Pauvre Pierrot</td>\n      <td>0</td>\n      <td>1892</td>\n      <td>\\N</td>\n      <td>4</td>\n      <td>Animation,Comedy,Romance</td>\n    </tr>\n    <tr>\n      <th>3</th>\n      <td>tt0000004</td>\n      <td>short</td>\n      <td>Un bon bock</td>\n      <td>Un bon bock</td>\n      <td>0</td>\n      <td>1892</td>\n      <td>\\N</td>\n      <td>12</td>\n      <td>Animation,Short</td>\n    </tr>\n    <tr>\n      <th>4</th>\n      <td>tt0000005</td>\n      <td>short</td>\n      <td>Blacksmith Scene</td>\n      <td>Blacksmith Scene</td>\n      <td>0</td>\n      <td>1893</td>\n      <td>\\N</td>\n      <td>1</td>\n      <td>Comedy,Short</td>\n    </tr>\n  </tbody>\n</table>\n</div>"
     },
     "metadata": {},
     "execution_count": 4
    }
   ],
   "source": [
    "data.head()"
   ]
  },
  {
   "source": [
    "### Quick note\n",
    "This is a really huge database with up to 7.85 million entries, most of them will render irrelevant."
   ],
   "cell_type": "markdown",
   "metadata": {}
  },
  {
   "cell_type": "code",
   "execution_count": 5,
   "metadata": {},
   "outputs": [
    {
     "output_type": "stream",
     "name": "stdout",
     "text": [
      "<class 'pandas.core.frame.DataFrame'>\nRangeIndex: 7850754 entries, 0 to 7850753\nData columns (total 9 columns):\n #   Column          Dtype \n---  ------          ----- \n 0   tconst          object\n 1   titleType       object\n 2   primaryTitle    object\n 3   originalTitle   object\n 4   isAdult         object\n 5   startYear       object\n 6   endYear         object\n 7   runtimeMinutes  object\n 8   genres          object\ndtypes: object(9)\nmemory usage: 539.1+ MB\n"
     ]
    }
   ],
   "source": [
    "data.info()"
   ]
  },
  {
   "source": [
    "## Filtering 'titleType' colunmn\n",
    "We are only interested in movies so we filter the titleType to movies only and then dropping the colunmn"
   ],
   "cell_type": "markdown",
   "metadata": {}
  },
  {
   "cell_type": "code",
   "execution_count": 6,
   "metadata": {},
   "outputs": [],
   "source": [
    "data = data[data[\"titleType\"].apply(lambda t: t==\"movie\")]\n",
    "data= data.drop(\"titleType\",axis=1)"
   ]
  },
  {
   "source": [
    "## Filtering 'startYear' column\n",
    "This dataframe includes entries from early 1900 to even the future with yet to be released movies.\n",
    "We will try to pinpoint the really releveant earliest start year later in this project but for sure we know we need already published movies so the future is really irrelevant.\n",
    "What we will do is filtering movies from 1900 to 2020 (including) since 2021 is yet to end and also because of the coronavirus many trends would probably fail in this year. We will also filter nan startYears since it wouldn't help us later at all."
   ],
   "cell_type": "markdown",
   "metadata": {}
  },
  {
   "cell_type": "code",
   "execution_count": 7,
   "metadata": {},
   "outputs": [],
   "source": [
    "#This function will try converting the value of the year to int and then check it's validity under the constraints\n",
    "#if the conversion fails that means that the value can't be parsed so it msut be either a nan or some other junky value \n",
    "def filterYear(year:str)->bool:\n",
    "    try:\n",
    "        return 1900<=int(year)<2021\n",
    "    except:\n",
    "        return False\n",
    "    \n",
    "data = data[data[\"startYear\"].apply(filterYear)]"
   ]
  },
  {
   "source": [
    "### Quick note\n",
    "Most of the entries were NOT movies and it makes sense since there are far more TV episodes, shorts, video games etc, than movies, now the dataframe dropped in size massively to only about 500K entries"
   ],
   "cell_type": "markdown",
   "metadata": {}
  },
  {
   "cell_type": "code",
   "execution_count": 8,
   "metadata": {},
   "outputs": [
    {
     "output_type": "stream",
     "name": "stdout",
     "text": [
      "<class 'pandas.core.frame.DataFrame'>\nInt64Index: 492524 entries, 498 to 7850704\nData columns (total 8 columns):\n #   Column          Non-Null Count   Dtype \n---  ------          --------------   ----- \n 0   tconst          492524 non-null  object\n 1   primaryTitle    492524 non-null  object\n 2   originalTitle   492524 non-null  object\n 3   isAdult         492524 non-null  object\n 4   startYear       492524 non-null  object\n 5   endYear         492524 non-null  object\n 6   runtimeMinutes  492524 non-null  object\n 7   genres          492524 non-null  object\ndtypes: object(8)\nmemory usage: 33.8+ MB\n"
     ]
    }
   ],
   "source": [
    "data.info()"
   ]
  },
  {
   "source": [
    "## Dropping 'endYear' column\n",
    "A derivative of filtering to movies only is also filtering endYear since the movies only have a release date without ongoing content, thus all entries of endYear are natually nan."
   ],
   "cell_type": "markdown",
   "metadata": {}
  },
  {
   "cell_type": "code",
   "execution_count": 9,
   "metadata": {},
   "outputs": [],
   "source": [
    "#data.drop(\"titleType\",inplace=True,axis=1)\n",
    "data = data.drop(\"endYear\",axis=1)"
   ]
  },
  {
   "source": [
    "## Is 'isAdult' relevant?\n",
    "We noticed that there is a column for the compatability to adults only with a boolean value of 0,1 (and probably from earlier/later updates with '0', '1' outlier strings) "
   ],
   "cell_type": "markdown",
   "metadata": {}
  },
  {
   "cell_type": "code",
   "execution_count": 10,
   "metadata": {},
   "outputs": [
    {
     "output_type": "execute_result",
     "data": {
      "text/plain": [
       "array([0, 1, '0', '1'], dtype=object)"
      ]
     },
     "metadata": {},
     "execution_count": 10
    }
   ],
   "source": [
    "data.isAdult.unique()\n"
   ]
  },
  {
   "source": [
    "We check how the isAdult value is distributed after fixing the string-integer incompatability and plotting to a pie chart after normalizing the counts"
   ],
   "cell_type": "markdown",
   "metadata": {}
  },
  {
   "cell_type": "code",
   "execution_count": 11,
   "metadata": {},
   "outputs": [
    {
     "output_type": "execute_result",
     "data": {
      "text/plain": [
       "0    0.982037\n",
       "1    0.017963\n",
       "Name: isAdult, dtype: float64"
      ]
     },
     "metadata": {},
     "execution_count": 11
    },
    {
     "output_type": "display_data",
     "data": {
      "text/plain": "<Figure size 432x288 with 1 Axes>",
      "image/svg+xml": "<?xml version=\"1.0\" encoding=\"utf-8\" standalone=\"no\"?>\r\n<!DOCTYPE svg PUBLIC \"-//W3C//DTD SVG 1.1//EN\"\r\n  \"http://www.w3.org/Graphics/SVG/1.1/DTD/svg11.dtd\">\r\n<!-- Created with matplotlib (https://matplotlib.org/) -->\r\n<svg height=\"231.84pt\" version=\"1.1\" viewBox=\"0 0 245.518125 231.84\" width=\"245.518125pt\" xmlns=\"http://www.w3.org/2000/svg\" xmlns:xlink=\"http://www.w3.org/1999/xlink\">\r\n <metadata>\r\n  <rdf:RDF xmlns:cc=\"http://creativecommons.org/ns#\" xmlns:dc=\"http://purl.org/dc/elements/1.1/\" xmlns:rdf=\"http://www.w3.org/1999/02/22-rdf-syntax-ns#\">\r\n   <cc:Work>\r\n    <dc:type rdf:resource=\"http://purl.org/dc/dcmitype/StillImage\"/>\r\n    <dc:date>2021-06-24T11:50:03.189509</dc:date>\r\n    <dc:format>image/svg+xml</dc:format>\r\n    <dc:creator>\r\n     <cc:Agent>\r\n      <dc:title>Matplotlib v3.3.2, https://matplotlib.org/</dc:title>\r\n     </cc:Agent>\r\n    </dc:creator>\r\n   </cc:Work>\r\n  </rdf:RDF>\r\n </metadata>\r\n <defs>\r\n  <style type=\"text/css\">*{stroke-linecap:butt;stroke-linejoin:round;}</style>\r\n </defs>\r\n <g id=\"figure_1\">\r\n  <g id=\"patch_1\">\r\n   <path d=\"M 0 231.84 \r\nL 245.518125 231.84 \r\nL 245.518125 0 \r\nL 0 0 \r\nz\r\n\" style=\"fill:none;\"/>\r\n  </g>\r\n  <g id=\"axes_1\">\r\n   <g id=\"patch_2\">\r\n    <path d=\"M 216.574125 115.92 \r\nC 216.574125 104.704848 214.404912 93.594833 210.186254 83.203367 \r\nC 205.967595 72.811901 199.778588 63.333815 191.960942 55.292419 \r\nC 184.143296 47.251022 174.843586 40.797084 164.575272 36.286943 \r\nC 154.306959 31.776802 143.262563 29.295019 132.051875 28.978619 \r\nC 120.841186 28.66222 109.674396 30.517136 99.16805 34.440953 \r\nC 88.661704 38.36477 79.012789 44.28392 70.754043 51.871592 \r\nC 62.495297 59.459264 55.781567 68.573195 50.983533 78.710182 \r\nC 46.185499 88.84717 43.393122 99.817154 42.760574 111.014454 \r\nC 42.128027 122.211754 43.667169 133.42643 47.293022 144.039292 \r\nC 50.918874 154.652154 56.563455 164.464219 63.915113 172.933739 \r\nC 71.26677 181.403259 80.187667 188.371438 90.185259 193.453545 \r\nC 100.18285 198.535651 111.06969 201.6364 122.244687 202.584592 \r\nC 133.419685 203.532784 144.673319 202.31064 155.384249 198.985639 \r\nC 166.095178 195.660638 176.062582 190.29512 184.736135 183.185329 \r\nC 193.409687 176.075538 200.626767 167.354777 205.988901 157.50454 \r\nC 211.351035 147.654303 214.757687 136.859275 216.020768 125.715475 \r\nL 129.598125 115.92 \r\nL 216.574125 115.92 \r\nz\r\n\" style=\"fill:#1f77b4;\"/>\r\n   </g>\r\n   <g id=\"patch_3\">\r\n    <path d=\"M 216.020768 125.715475 \r\nC 216.205037 124.089726 216.343394 122.4591 216.435676 120.825546 \r\nC 216.527957 119.191991 216.574125 117.556158 216.574125 115.919999 \r\nL 129.598125 115.92 \r\nL 216.020768 125.715475 \r\nz\r\n\" style=\"fill:#ff7f0e;\"/>\r\n   </g>\r\n   <g id=\"matplotlib.axis_1\"/>\r\n   <g id=\"matplotlib.axis_2\">\r\n    <g id=\"text_1\">\r\n     <!-- isAdult -->\r\n     <g transform=\"translate(14.798438 132.93875)rotate(-90)scale(0.1 -0.1)\">\r\n      <defs>\r\n       <path d=\"M 9.421875 54.6875 \r\nL 18.40625 54.6875 \r\nL 18.40625 0 \r\nL 9.421875 0 \r\nz\r\nM 9.421875 75.984375 \r\nL 18.40625 75.984375 \r\nL 18.40625 64.59375 \r\nL 9.421875 64.59375 \r\nz\r\n\" id=\"DejaVuSans-105\"/>\r\n       <path d=\"M 44.28125 53.078125 \r\nL 44.28125 44.578125 \r\nQ 40.484375 46.53125 36.375 47.5 \r\nQ 32.28125 48.484375 27.875 48.484375 \r\nQ 21.1875 48.484375 17.84375 46.4375 \r\nQ 14.5 44.390625 14.5 40.28125 \r\nQ 14.5 37.15625 16.890625 35.375 \r\nQ 19.28125 33.59375 26.515625 31.984375 \r\nL 29.59375 31.296875 \r\nQ 39.15625 29.25 43.1875 25.515625 \r\nQ 47.21875 21.78125 47.21875 15.09375 \r\nQ 47.21875 7.46875 41.1875 3.015625 \r\nQ 35.15625 -1.421875 24.609375 -1.421875 \r\nQ 20.21875 -1.421875 15.453125 -0.5625 \r\nQ 10.6875 0.296875 5.421875 2 \r\nL 5.421875 11.28125 \r\nQ 10.40625 8.6875 15.234375 7.390625 \r\nQ 20.0625 6.109375 24.8125 6.109375 \r\nQ 31.15625 6.109375 34.5625 8.28125 \r\nQ 37.984375 10.453125 37.984375 14.40625 \r\nQ 37.984375 18.0625 35.515625 20.015625 \r\nQ 33.0625 21.96875 24.703125 23.78125 \r\nL 21.578125 24.515625 \r\nQ 13.234375 26.265625 9.515625 29.90625 \r\nQ 5.8125 33.546875 5.8125 39.890625 \r\nQ 5.8125 47.609375 11.28125 51.796875 \r\nQ 16.75 56 26.8125 56 \r\nQ 31.78125 56 36.171875 55.265625 \r\nQ 40.578125 54.546875 44.28125 53.078125 \r\nz\r\n\" id=\"DejaVuSans-115\"/>\r\n       <path d=\"M 34.1875 63.1875 \r\nL 20.796875 26.90625 \r\nL 47.609375 26.90625 \r\nz\r\nM 28.609375 72.90625 \r\nL 39.796875 72.90625 \r\nL 67.578125 0 \r\nL 57.328125 0 \r\nL 50.6875 18.703125 \r\nL 17.828125 18.703125 \r\nL 11.1875 0 \r\nL 0.78125 0 \r\nz\r\n\" id=\"DejaVuSans-65\"/>\r\n       <path d=\"M 45.40625 46.390625 \r\nL 45.40625 75.984375 \r\nL 54.390625 75.984375 \r\nL 54.390625 0 \r\nL 45.40625 0 \r\nL 45.40625 8.203125 \r\nQ 42.578125 3.328125 38.25 0.953125 \r\nQ 33.9375 -1.421875 27.875 -1.421875 \r\nQ 17.96875 -1.421875 11.734375 6.484375 \r\nQ 5.515625 14.40625 5.515625 27.296875 \r\nQ 5.515625 40.1875 11.734375 48.09375 \r\nQ 17.96875 56 27.875 56 \r\nQ 33.9375 56 38.25 53.625 \r\nQ 42.578125 51.265625 45.40625 46.390625 \r\nz\r\nM 14.796875 27.296875 \r\nQ 14.796875 17.390625 18.875 11.75 \r\nQ 22.953125 6.109375 30.078125 6.109375 \r\nQ 37.203125 6.109375 41.296875 11.75 \r\nQ 45.40625 17.390625 45.40625 27.296875 \r\nQ 45.40625 37.203125 41.296875 42.84375 \r\nQ 37.203125 48.484375 30.078125 48.484375 \r\nQ 22.953125 48.484375 18.875 42.84375 \r\nQ 14.796875 37.203125 14.796875 27.296875 \r\nz\r\n\" id=\"DejaVuSans-100\"/>\r\n       <path d=\"M 8.5 21.578125 \r\nL 8.5 54.6875 \r\nL 17.484375 54.6875 \r\nL 17.484375 21.921875 \r\nQ 17.484375 14.15625 20.5 10.265625 \r\nQ 23.53125 6.390625 29.59375 6.390625 \r\nQ 36.859375 6.390625 41.078125 11.03125 \r\nQ 45.3125 15.671875 45.3125 23.6875 \r\nL 45.3125 54.6875 \r\nL 54.296875 54.6875 \r\nL 54.296875 0 \r\nL 45.3125 0 \r\nL 45.3125 8.40625 \r\nQ 42.046875 3.421875 37.71875 1 \r\nQ 33.40625 -1.421875 27.6875 -1.421875 \r\nQ 18.265625 -1.421875 13.375 4.4375 \r\nQ 8.5 10.296875 8.5 21.578125 \r\nz\r\nM 31.109375 56 \r\nz\r\n\" id=\"DejaVuSans-117\"/>\r\n       <path d=\"M 9.421875 75.984375 \r\nL 18.40625 75.984375 \r\nL 18.40625 0 \r\nL 9.421875 0 \r\nz\r\n\" id=\"DejaVuSans-108\"/>\r\n       <path d=\"M 18.3125 70.21875 \r\nL 18.3125 54.6875 \r\nL 36.8125 54.6875 \r\nL 36.8125 47.703125 \r\nL 18.3125 47.703125 \r\nL 18.3125 18.015625 \r\nQ 18.3125 11.328125 20.140625 9.421875 \r\nQ 21.96875 7.515625 27.59375 7.515625 \r\nL 36.8125 7.515625 \r\nL 36.8125 0 \r\nL 27.59375 0 \r\nQ 17.1875 0 13.234375 3.875 \r\nQ 9.28125 7.765625 9.28125 18.015625 \r\nL 9.28125 47.703125 \r\nL 2.6875 47.703125 \r\nL 2.6875 54.6875 \r\nL 9.28125 54.6875 \r\nL 9.28125 70.21875 \r\nz\r\n\" id=\"DejaVuSans-116\"/>\r\n      </defs>\r\n      <use xlink:href=\"#DejaVuSans-105\"/>\r\n      <use x=\"27.783203\" xlink:href=\"#DejaVuSans-115\"/>\r\n      <use x=\"79.882812\" xlink:href=\"#DejaVuSans-65\"/>\r\n      <use x=\"146.541016\" xlink:href=\"#DejaVuSans-100\"/>\r\n      <use x=\"210.017578\" xlink:href=\"#DejaVuSans-117\"/>\r\n      <use x=\"273.396484\" xlink:href=\"#DejaVuSans-108\"/>\r\n      <use x=\"301.179688\" xlink:href=\"#DejaVuSans-116\"/>\r\n     </g>\r\n    </g>\r\n   </g>\r\n   <g id=\"text_2\">\r\n    <!-- 0 -->\r\n    <g transform=\"translate(27.714319 113.283274)scale(0.1 -0.1)\">\r\n     <defs>\r\n      <path d=\"M 31.78125 66.40625 \r\nQ 24.171875 66.40625 20.328125 58.90625 \r\nQ 16.5 51.421875 16.5 36.375 \r\nQ 16.5 21.390625 20.328125 13.890625 \r\nQ 24.171875 6.390625 31.78125 6.390625 \r\nQ 39.453125 6.390625 43.28125 13.890625 \r\nQ 47.125 21.390625 47.125 36.375 \r\nQ 47.125 51.421875 43.28125 58.90625 \r\nQ 39.453125 66.40625 31.78125 66.40625 \r\nz\r\nM 31.78125 74.21875 \r\nQ 44.046875 74.21875 50.515625 64.515625 \r\nQ 56.984375 54.828125 56.984375 36.375 \r\nQ 56.984375 17.96875 50.515625 8.265625 \r\nQ 44.046875 -1.421875 31.78125 -1.421875 \r\nQ 19.53125 -1.421875 13.0625 8.265625 \r\nQ 6.59375 17.96875 6.59375 36.375 \r\nQ 6.59375 54.828125 13.0625 64.515625 \r\nQ 19.53125 74.21875 31.78125 74.21875 \r\nz\r\n\" id=\"DejaVuSans-48\"/>\r\n     </defs>\r\n     <use xlink:href=\"#DejaVuSans-48\"/>\r\n    </g>\r\n   </g>\r\n   <g id=\"text_3\">\r\n    <!-- 1 -->\r\n    <g transform=\"translate(225.119431 124.075475)scale(0.1 -0.1)\">\r\n     <defs>\r\n      <path d=\"M 12.40625 8.296875 \r\nL 28.515625 8.296875 \r\nL 28.515625 63.921875 \r\nL 10.984375 60.40625 \r\nL 10.984375 69.390625 \r\nL 28.421875 72.90625 \r\nL 38.28125 72.90625 \r\nL 38.28125 8.296875 \r\nL 54.390625 8.296875 \r\nL 54.390625 0 \r\nL 12.40625 0 \r\nz\r\n\" id=\"DejaVuSans-49\"/>\r\n     </defs>\r\n     <use xlink:href=\"#DejaVuSans-49\"/>\r\n    </g>\r\n   </g>\r\n  </g>\r\n </g>\r\n</svg>\r\n",
      "image/png": "[encoded data removed]"
     },
     "metadata": {}
    }
   ],
   "source": [
    "isAdult = data[\"isAdult\"].apply(lambda n:int(n))\n",
    "isAdult = isAdult.value_counts(normalize=True)\n",
    "isAdult.plot(kind=\"pie\")\n",
    "isAdult"
   ]
  },
  {
   "source": [
    "## Dropping 'isAdult'\n",
    "We decided to drop the 'isAdult' column since the distribution for adult movies is less than 2% so it seems irrelevant to take it into consideration for later research."
   ],
   "cell_type": "markdown",
   "metadata": {}
  },
  {
   "cell_type": "code",
   "execution_count": 12,
   "metadata": {},
   "outputs": [],
   "source": [
    "data = data.drop(\"isAdult\",axis=1)"
   ]
  },
  {
   "source": [
    "# Final cleaning and fixing nans\n"
   ],
   "cell_type": "markdown",
   "metadata": {}
  },
  {
   "source": [
    "## Dropping nan 'startYear' movies\n",
    "The goal of this project is to check how influencial some movies were along the years so movies with a nan in the year column is probably less known and not really helpful for this goal. This drop narrows down the dataset to about 425K results.\n"
   ],
   "cell_type": "markdown",
   "metadata": {}
  },
  {
   "cell_type": "code",
   "execution_count": 13,
   "metadata": {},
   "outputs": [
    {
     "output_type": "stream",
     "name": "stdout",
     "text": [
      "The % of \"yearless\" movies: 0.13530711193769238 \n\n<class 'pandas.core.frame.DataFrame'>\nInt64Index: 425882 entries, 570 to 7850704\nData columns (total 6 columns):\n #   Column          Non-Null Count   Dtype \n---  ------          --------------   ----- \n 0   tconst          425882 non-null  object\n 1   primaryTitle    425882 non-null  object\n 2   originalTitle   425882 non-null  object\n 3   startYear       425882 non-null  object\n 4   runtimeMinutes  425882 non-null  object\n 5   genres          425882 non-null  object\ndtypes: object(6)\nmemory usage: 22.7+ MB\n"
     ]
    }
   ],
   "source": [
    "print(\"The % of \\\"yearless\\\" movies:\", data[data.genres==\"\\\\N\"].shape[0] / data. shape[0],\"\\n\")\n",
    "data = data[data.genres!=\"\\\\N\"]\n",
    "data.info()"
   ]
  },
  {
   "source": [
    "## Dropping (presumably) far less known movies\n",
    "We decided to also drop movies with nan in 'runtimeMinutes' since it is really a simple value to fill in, and if it is not present that means the movie is not that popular. This operation seals the narrowing to 330K movies."
   ],
   "cell_type": "markdown",
   "metadata": {}
  },
  {
   "cell_type": "code",
   "execution_count": 14,
   "metadata": {},
   "outputs": [
    {
     "output_type": "stream",
     "name": "stdout",
     "text": [
      "<class 'pandas.core.frame.DataFrame'>\nInt64Index: 329887 entries, 570 to 7850704\nData columns (total 6 columns):\n #   Column          Non-Null Count   Dtype \n---  ------          --------------   ----- \n 0   tconst          329887 non-null  object\n 1   primaryTitle    329887 non-null  object\n 2   originalTitle   329887 non-null  object\n 3   startYear       329887 non-null  object\n 4   runtimeMinutes  329887 non-null  object\n 5   genres          329887 non-null  object\ndtypes: object(6)\nmemory usage: 17.6+ MB\n"
     ]
    }
   ],
   "source": [
    "data = data[data[\"runtimeMinutes\"].apply(lambda n:n!=\"\\\\N\")]\n",
    "data.info()"
   ]
  },
  {
   "source": [
    "# Conclusion of movie data acquiring and cleansing\n",
    "This dataset was reduced from arount 8M entries to about 330K entries leaving us with the really potentially good 'fruits'.\n",
    "One last thing to do is to save it for later use."
   ],
   "cell_type": "markdown",
   "metadata": {}
  },
  {
   "cell_type": "code",
   "execution_count": 15,
   "metadata": {},
   "outputs": [],
   "source": [
    "data.to_csv(\"./output_data/fixed.title.basics.csv\",index=False)"
   ]
  }
 ]
}