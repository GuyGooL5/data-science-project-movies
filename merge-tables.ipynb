{
 "metadata": {
  "language_info": {
   "codemirror_mode": {
    "name": "ipython",
    "version": 3
   },
   "file_extension": ".py",
   "mimetype": "text/x-python",
   "name": "python",
   "nbconvert_exporter": "python",
   "pygments_lexer": "ipython3",
   "version": "3.8.5"
  },
  "orig_nbformat": 2,
  "kernelspec": {
   "name": "python3",
   "display_name": "Python 3.8.5 64-bit ('base': conda)"
  },
  "interpreter": {
   "hash": "7b4b4feff2f24a0f0a34464dbe537a36fda679851528fb8735cb41fa49dffb2d"
  }
 },
 "nbformat": 4,
 "nbformat_minor": 2,
 "cells": [
  {
   "source": [
    "# 3.Merging The IMDB and 'the-numbers' Tables\n",
    "In this notebook we will unify the data from both sets we created in steps 1 and 2."
   ],
   "cell_type": "markdown",
   "metadata": {}
  },
  {
   "cell_type": "code",
   "execution_count": 1,
   "metadata": {},
   "outputs": [],
   "source": [
    "import os\n",
    "import subprocess\n",
    "import pandas as pd\n",
    "import numpy as np\n",
    "from hashlib import md5 "
   ]
  },
  {
   "source": [
    "### 3.1 Loading the data sets\n",
    "We will load the csv files of both sets into dataframes.\n",
    "We will also modify 'the-numbers' table to have a column ready for the tconst values of the 'imdb' table."
   ],
   "cell_type": "markdown",
   "metadata": {}
  },
  {
   "cell_type": "code",
   "execution_count": 2,
   "metadata": {
    "tags": []
   },
   "outputs": [],
   "source": [
    "imdb_df = pd.read_csv(\"output_data/fixed.title.basics.csv\")\n",
    "thenumbers_df = pd.read_csv(\"output_data/the_numbers.csv\")\n",
    "thenumbers_df.insert(0,\"tconst\",\"\",allow_duplicates=False)\n",
    "thenumbers_df.insert(5,\"genres\",\"\",allow_duplicates=True)\n",
    "thenumbers_df.insert(5,\"runtime\",\"\",allow_duplicates=True)\n",
    "thenumbers_df.insert(7,\"year\",\"\",allow_duplicates=True)\n",
    "thenumbers_df.insert(7,\"month\",\"\",allow_duplicates=True)\n",
    "thenumbers_df.insert(7,\"day\",\"\",allow_duplicates=True)\n",
    "thenumbers_df.genre=\"\"\n",
    "thenumbers_df.tconst=\"\"\n",
    "thenumbers_df.date=thenumbers_df.date.fillna(\"0000/00/00\")\n",
    "\n",
    "df2 = pd.DataFrame(thenumbers_df.date.str.split(\"/\").tolist(),columns=[\"year\",\"month\",\"day\"])\n",
    "thenumbers_df[[\"year\",\"month\",\"day\"]]=df2[[\"year\",\"month\",\"day\"]]\\\n",
    "\n",
    "#The csv imports an unnecessary column of the old indicies before the sort by date, we will delete it.abs\n",
    "thenumbers_df=thenumbers_df.drop(\"Unnamed: 0\",1)\n",
    "thenumbers_df=thenumbers_df.drop(\"date\",1)\n"
   ]
  },
  {
   "cell_type": "code",
   "execution_count": 3,
   "metadata": {},
   "outputs": [
    {
     "output_type": "execute_result",
     "data": {
      "text/plain": [
       "      tconst                                id                movie  \\\n",
       "0             1ce88cd3a75300f44f56511e82ab4b12                Moana   \n",
       "1             767146afaa42d85e4265992656f9d079           Metropolis   \n",
       "2             3d54ed959d3c0916442ecc7a27361f18   La Grande Illusion   \n",
       "3             4cf8e15b66f14b1571979dc69089867d       Arabian Nights   \n",
       "4             020037917f805b5e80b9852a6272eb93               Detour   \n",
       "...      ...                               ...                  ...   \n",
       "13621         f91f05be3692e449472e88cbac05a233               Ta-weo   \n",
       "13622         c4946644789c203efe43e063613433c4    The ABCs of Death   \n",
       "13623         ff8b957fb62af22108f5ad7e3e83e70e       Next Goal Wins   \n",
       "13624         6859dd3b4dbdfe4cff8d646887b1037d  Shadow in the Cloud   \n",
       "13625         9ef6f5039414a480d1b434ce36d02e82              Herself   \n",
       "\n",
       "                                                link runtime genres day month  \\\n",
       "0                  /movie/Moana-(Documentary)-(1926)                 07    01   \n",
       "1                 /movie/Metropolis-(Germany)-(1927)                 13    03   \n",
       "2                          /movie/Grande-Illusion-La                 12    09   \n",
       "3                              /movie/Arabian-Nights                 25    12   \n",
       "4                               /movie/Detour-(1945)                 30    11   \n",
       "...                                              ...     ...    ...  ..   ...   \n",
       "13621                                  /movie/Ta-Weo                 00    00   \n",
       "13622                       /movie/ABCs-of-Death-The                 00    00   \n",
       "13623                          /movie/Next-Goal-Wins                 00    00   \n",
       "13624  /movie/Shadow-in-the-Cloud-(2020-New-Zealand)                 00    00   \n",
       "13625                            /movie/Herself-(UK)                 00    00   \n",
       "\n",
       "       year                dist  ...  tickets_2011  tickets_2012  \\\n",
       "0      1926  Paramount Pictures  ...           NaN           NaN   \n",
       "1      1927  Paramount Pictures  ...       70165.0           NaN   \n",
       "2      1938     Rialto Pictures  ...           NaN        9000.0   \n",
       "3      1942           Universal  ...           NaN           NaN   \n",
       "4      1945  Producers Releasi…  ...           NaN           NaN   \n",
       "...     ...                 ...  ...           ...           ...   \n",
       "13621  0000                 NaN  ...           NaN          91.0   \n",
       "13622  0000                 NaN  ...           NaN           NaN   \n",
       "13623  0000                 NaN  ...           NaN           NaN   \n",
       "13624  0000                 NaN  ...           NaN           NaN   \n",
       "13625  0000                 NaN  ...           NaN           NaN   \n",
       "\n",
       "       tickets_2013  tickets_2014  tickets_2015  tickets_2016  tickets_2017  \\\n",
       "0               NaN           NaN           NaN         346.0           NaN   \n",
       "1               NaN           NaN           NaN           NaN           NaN   \n",
       "2               NaN           NaN           NaN           NaN           NaN   \n",
       "3               NaN           NaN           NaN         429.0           NaN   \n",
       "4               NaN           NaN           NaN           NaN           NaN   \n",
       "...             ...           ...           ...           ...           ...   \n",
       "13621           NaN           NaN           NaN           NaN           NaN   \n",
       "13622        2685.0           NaN           NaN           NaN           NaN   \n",
       "13623           NaN        5274.0           NaN           NaN           NaN   \n",
       "13624           NaN           NaN           NaN           NaN           NaN   \n",
       "13625           NaN           NaN           NaN           NaN           NaN   \n",
       "\n",
       "       tickets_2018  tickets_2019  tickets_2020  \n",
       "0               NaN           NaN           NaN  \n",
       "1               NaN           NaN           NaN  \n",
       "2               NaN           NaN           NaN  \n",
       "3               NaN           NaN           NaN  \n",
       "4            1606.0         168.0           NaN  \n",
       "...             ...           ...           ...  \n",
       "13621           NaN           NaN           NaN  \n",
       "13622           NaN           NaN           NaN  \n",
       "13623           NaN           NaN           NaN  \n",
       "13624           NaN           NaN        4270.0  \n",
       "13625           NaN           NaN         655.0  \n",
       "\n",
       "[13626 rows x 62 columns]"
      ],
      "text/html": "<div>\n<style scoped>\n    .dataframe tbody tr th:only-of-type {\n        vertical-align: middle;\n    }\n\n    .dataframe tbody tr th {\n        vertical-align: top;\n    }\n\n    .dataframe thead th {\n        text-align: right;\n    }\n</style>\n<table border=\"1\" class=\"dataframe\">\n  <thead>\n    <tr style=\"text-align: right;\">\n      <th></th>\n      <th>tconst</th>\n      <th>id</th>\n      <th>movie</th>\n      <th>link</th>\n      <th>runtime</th>\n      <th>genres</th>\n      <th>day</th>\n      <th>month</th>\n      <th>year</th>\n      <th>dist</th>\n      <th>...</th>\n      <th>tickets_2011</th>\n      <th>tickets_2012</th>\n      <th>tickets_2013</th>\n      <th>tickets_2014</th>\n      <th>tickets_2015</th>\n      <th>tickets_2016</th>\n      <th>tickets_2017</th>\n      <th>tickets_2018</th>\n      <th>tickets_2019</th>\n      <th>tickets_2020</th>\n    </tr>\n  </thead>\n  <tbody>\n    <tr>\n      <th>0</th>\n      <td></td>\n      <td>1ce88cd3a75300f44f56511e82ab4b12</td>\n      <td>Moana</td>\n      <td>/movie/Moana-(Documentary)-(1926)</td>\n      <td></td>\n      <td></td>\n      <td>07</td>\n      <td>01</td>\n      <td>1926</td>\n      <td>Paramount Pictures</td>\n      <td>...</td>\n      <td>NaN</td>\n      <td>NaN</td>\n      <td>NaN</td>\n      <td>NaN</td>\n      <td>NaN</td>\n      <td>346.0</td>\n      <td>NaN</td>\n      <td>NaN</td>\n      <td>NaN</td>\n      <td>NaN</td>\n    </tr>\n    <tr>\n      <th>1</th>\n      <td></td>\n      <td>767146afaa42d85e4265992656f9d079</td>\n      <td>Metropolis</td>\n      <td>/movie/Metropolis-(Germany)-(1927)</td>\n      <td></td>\n      <td></td>\n      <td>13</td>\n      <td>03</td>\n      <td>1927</td>\n      <td>Paramount Pictures</td>\n      <td>...</td>\n      <td>70165.0</td>\n      <td>NaN</td>\n      <td>NaN</td>\n      <td>NaN</td>\n      <td>NaN</td>\n      <td>NaN</td>\n      <td>NaN</td>\n      <td>NaN</td>\n      <td>NaN</td>\n      <td>NaN</td>\n    </tr>\n    <tr>\n      <th>2</th>\n      <td></td>\n      <td>3d54ed959d3c0916442ecc7a27361f18</td>\n      <td>La Grande Illusion</td>\n      <td>/movie/Grande-Illusion-La</td>\n      <td></td>\n      <td></td>\n      <td>12</td>\n      <td>09</td>\n      <td>1938</td>\n      <td>Rialto Pictures</td>\n      <td>...</td>\n      <td>NaN</td>\n      <td>9000.0</td>\n      <td>NaN</td>\n      <td>NaN</td>\n      <td>NaN</td>\n      <td>NaN</td>\n      <td>NaN</td>\n      <td>NaN</td>\n      <td>NaN</td>\n      <td>NaN</td>\n    </tr>\n    <tr>\n      <th>3</th>\n      <td></td>\n      <td>4cf8e15b66f14b1571979dc69089867d</td>\n      <td>Arabian Nights</td>\n      <td>/movie/Arabian-Nights</td>\n      <td></td>\n      <td></td>\n      <td>25</td>\n      <td>12</td>\n      <td>1942</td>\n      <td>Universal</td>\n      <td>...</td>\n      <td>NaN</td>\n      <td>NaN</td>\n      <td>NaN</td>\n      <td>NaN</td>\n      <td>NaN</td>\n      <td>429.0</td>\n      <td>NaN</td>\n      <td>NaN</td>\n      <td>NaN</td>\n      <td>NaN</td>\n    </tr>\n    <tr>\n      <th>4</th>\n      <td></td>\n      <td>020037917f805b5e80b9852a6272eb93</td>\n      <td>Detour</td>\n      <td>/movie/Detour-(1945)</td>\n      <td></td>\n      <td></td>\n      <td>30</td>\n      <td>11</td>\n      <td>1945</td>\n      <td>Producers Releasi…</td>\n      <td>...</td>\n      <td>NaN</td>\n      <td>NaN</td>\n      <td>NaN</td>\n      <td>NaN</td>\n      <td>NaN</td>\n      <td>NaN</td>\n      <td>NaN</td>\n      <td>1606.0</td>\n      <td>168.0</td>\n      <td>NaN</td>\n    </tr>\n    <tr>\n      <th>...</th>\n      <td>...</td>\n      <td>...</td>\n      <td>...</td>\n      <td>...</td>\n      <td>...</td>\n      <td>...</td>\n      <td>...</td>\n      <td>...</td>\n      <td>...</td>\n      <td>...</td>\n      <td>...</td>\n      <td>...</td>\n      <td>...</td>\n      <td>...</td>\n      <td>...</td>\n      <td>...</td>\n      <td>...</td>\n      <td>...</td>\n      <td>...</td>\n      <td>...</td>\n      <td>...</td>\n    </tr>\n    <tr>\n      <th>13621</th>\n      <td></td>\n      <td>f91f05be3692e449472e88cbac05a233</td>\n      <td>Ta-weo</td>\n      <td>/movie/Ta-Weo</td>\n      <td></td>\n      <td></td>\n      <td>00</td>\n      <td>00</td>\n      <td>0000</td>\n      <td>NaN</td>\n      <td>...</td>\n      <td>NaN</td>\n      <td>91.0</td>\n      <td>NaN</td>\n      <td>NaN</td>\n      <td>NaN</td>\n      <td>NaN</td>\n      <td>NaN</td>\n      <td>NaN</td>\n      <td>NaN</td>\n      <td>NaN</td>\n    </tr>\n    <tr>\n      <th>13622</th>\n      <td></td>\n      <td>c4946644789c203efe43e063613433c4</td>\n      <td>The ABCs of Death</td>\n      <td>/movie/ABCs-of-Death-The</td>\n      <td></td>\n      <td></td>\n      <td>00</td>\n      <td>00</td>\n      <td>0000</td>\n      <td>NaN</td>\n      <td>...</td>\n      <td>NaN</td>\n      <td>NaN</td>\n      <td>2685.0</td>\n      <td>NaN</td>\n      <td>NaN</td>\n      <td>NaN</td>\n      <td>NaN</td>\n      <td>NaN</td>\n      <td>NaN</td>\n      <td>NaN</td>\n    </tr>\n    <tr>\n      <th>13623</th>\n      <td></td>\n      <td>ff8b957fb62af22108f5ad7e3e83e70e</td>\n      <td>Next Goal Wins</td>\n      <td>/movie/Next-Goal-Wins</td>\n      <td></td>\n      <td></td>\n      <td>00</td>\n      <td>00</td>\n      <td>0000</td>\n      <td>NaN</td>\n      <td>...</td>\n      <td>NaN</td>\n      <td>NaN</td>\n      <td>NaN</td>\n      <td>5274.0</td>\n      <td>NaN</td>\n      <td>NaN</td>\n      <td>NaN</td>\n      <td>NaN</td>\n      <td>NaN</td>\n      <td>NaN</td>\n    </tr>\n    <tr>\n      <th>13624</th>\n      <td></td>\n      <td>6859dd3b4dbdfe4cff8d646887b1037d</td>\n      <td>Shadow in the Cloud</td>\n      <td>/movie/Shadow-in-the-Cloud-(2020-New-Zealand)</td>\n      <td></td>\n      <td></td>\n      <td>00</td>\n      <td>00</td>\n      <td>0000</td>\n      <td>NaN</td>\n      <td>...</td>\n      <td>NaN</td>\n      <td>NaN</td>\n      <td>NaN</td>\n      <td>NaN</td>\n      <td>NaN</td>\n      <td>NaN</td>\n      <td>NaN</td>\n      <td>NaN</td>\n      <td>NaN</td>\n      <td>4270.0</td>\n    </tr>\n    <tr>\n      <th>13625</th>\n      <td></td>\n      <td>9ef6f5039414a480d1b434ce36d02e82</td>\n      <td>Herself</td>\n      <td>/movie/Herself-(UK)</td>\n      <td></td>\n      <td></td>\n      <td>00</td>\n      <td>00</td>\n      <td>0000</td>\n      <td>NaN</td>\n      <td>...</td>\n      <td>NaN</td>\n      <td>NaN</td>\n      <td>NaN</td>\n      <td>NaN</td>\n      <td>NaN</td>\n      <td>NaN</td>\n      <td>NaN</td>\n      <td>NaN</td>\n      <td>NaN</td>\n      <td>655.0</td>\n    </tr>\n  </tbody>\n</table>\n<p>13626 rows × 62 columns</p>\n</div>"
     },
     "metadata": {},
     "execution_count": 3
    }
   ],
   "source": [
    "thenumbers_df"
   ]
  },
  {
   "source": [
    "## 3.2 Addressing the problems...\n",
    "First of all, to merge the tables we need to have a strong link to more data on imdb. To have that link we can use the ``tconst`` field in the table.\n",
    "It is a unique key tied to the movie.\n",
    "\n",
    "The problem is linking that key to the matching movie in the 'the-numbers' table. The only way we can do it is with string comparison.\n",
    "This alone raises another problem of duplicate movie names, for example the movie name 'Moana' appreas twice as shown below.\n"
   ],
   "cell_type": "markdown",
   "metadata": {}
  },
  {
   "cell_type": "code",
   "execution_count": 4,
   "metadata": {},
   "outputs": [
    {
     "output_type": "execute_result",
     "data": {
      "text/plain": [
       "      tconst                                id  movie  \\\n",
       "0             1ce88cd3a75300f44f56511e82ab4b12  Moana   \n",
       "11503         f81d7ee53f44d3fb965f704725b206cb  Moana   \n",
       "\n",
       "                                    link runtime genres day month  year  \\\n",
       "0      /movie/Moana-(Documentary)-(1926)                 07    01  1926   \n",
       "11503                /movie/Moana-(2016)                 23    11  2016   \n",
       "\n",
       "                     dist  ...  tickets_2011  tickets_2012  tickets_2013  \\\n",
       "0      Paramount Pictures  ...           NaN           NaN           NaN   \n",
       "11503         Walt Disney  ...           NaN           NaN           NaN   \n",
       "\n",
       "       tickets_2014  tickets_2015  tickets_2016  tickets_2017  tickets_2018  \\\n",
       "0               NaN           NaN         346.0           NaN           NaN   \n",
       "11503           NaN           NaN    24282787.0     4315599.0           NaN   \n",
       "\n",
       "       tickets_2019  tickets_2020  \n",
       "0               NaN           NaN  \n",
       "11503           NaN           NaN  \n",
       "\n",
       "[2 rows x 62 columns]"
      ],
      "text/html": "<div>\n<style scoped>\n    .dataframe tbody tr th:only-of-type {\n        vertical-align: middle;\n    }\n\n    .dataframe tbody tr th {\n        vertical-align: top;\n    }\n\n    .dataframe thead th {\n        text-align: right;\n    }\n</style>\n<table border=\"1\" class=\"dataframe\">\n  <thead>\n    <tr style=\"text-align: right;\">\n      <th></th>\n      <th>tconst</th>\n      <th>id</th>\n      <th>movie</th>\n      <th>link</th>\n      <th>runtime</th>\n      <th>genres</th>\n      <th>day</th>\n      <th>month</th>\n      <th>year</th>\n      <th>dist</th>\n      <th>...</th>\n      <th>tickets_2011</th>\n      <th>tickets_2012</th>\n      <th>tickets_2013</th>\n      <th>tickets_2014</th>\n      <th>tickets_2015</th>\n      <th>tickets_2016</th>\n      <th>tickets_2017</th>\n      <th>tickets_2018</th>\n      <th>tickets_2019</th>\n      <th>tickets_2020</th>\n    </tr>\n  </thead>\n  <tbody>\n    <tr>\n      <th>0</th>\n      <td></td>\n      <td>1ce88cd3a75300f44f56511e82ab4b12</td>\n      <td>Moana</td>\n      <td>/movie/Moana-(Documentary)-(1926)</td>\n      <td></td>\n      <td></td>\n      <td>07</td>\n      <td>01</td>\n      <td>1926</td>\n      <td>Paramount Pictures</td>\n      <td>...</td>\n      <td>NaN</td>\n      <td>NaN</td>\n      <td>NaN</td>\n      <td>NaN</td>\n      <td>NaN</td>\n      <td>346.0</td>\n      <td>NaN</td>\n      <td>NaN</td>\n      <td>NaN</td>\n      <td>NaN</td>\n    </tr>\n    <tr>\n      <th>11503</th>\n      <td></td>\n      <td>f81d7ee53f44d3fb965f704725b206cb</td>\n      <td>Moana</td>\n      <td>/movie/Moana-(2016)</td>\n      <td></td>\n      <td></td>\n      <td>23</td>\n      <td>11</td>\n      <td>2016</td>\n      <td>Walt Disney</td>\n      <td>...</td>\n      <td>NaN</td>\n      <td>NaN</td>\n      <td>NaN</td>\n      <td>NaN</td>\n      <td>NaN</td>\n      <td>24282787.0</td>\n      <td>4315599.0</td>\n      <td>NaN</td>\n      <td>NaN</td>\n      <td>NaN</td>\n    </tr>\n  </tbody>\n</table>\n<p>2 rows × 62 columns</p>\n</div>"
     },
     "metadata": {},
     "execution_count": 4
    }
   ],
   "source": [
    "thenumbers_df[thenumbers_df.movie==\"Moana\"]"
   ]
  },
  {
   "source": [
    "To solve the this problem we will try to find movies in IMDB table that match movies in 'the-numbers' table and we will compare the release years to pinpoint the exact movies.\n",
    "If that alone isn't enough (meaning same name of movies at the same year) we will then crawl into 'the-numbers' to the movie's page and compare the runtime.\n",
    "<br><br>\n",
    "Now, if it isn't enough there is another _technical_ problem. We need to compare around 13K strings to about 320K strings, this on the CPU will take hours to run.\n",
    "To solve this problem we have written a software that compares hashes on the GPU parallely amplifying the calculation several hundreds if not thousands of times.\n",
    "<br><br>\n",
    "This software was compiled with nvcc CUDA compiler and we will use that software with subproccess calls to get results"
   ],
   "cell_type": "markdown",
   "metadata": {}
  },
  {
   "source": [
    "## 3.2 Cut Movie Names Problem\n",
    "We noticed that in 'the-numbers' table some movie names are cut and end with the special char `…`. This is the case everytime the movie has more than 27 characters, therfore we will cut every movie name in both tables to be exactly at most 27 chars."
   ],
   "cell_type": "markdown",
   "metadata": {}
  },
  {
   "source": [
    "## 3.2 Hashing the names\n",
    "We will now create two files each for each table names hashed with MD5.\n",
    "This step is crucial to do parallel comparsion of fixed sized arrays to cut massive calculation time.\n",
    "NOTE: we also take care of the length problem.\n",
    "\n",
    "Also also we will create two hashed versions of the names, one for `primaryTitle` colunmn and one for `originalTitle` and we will try to find matches on the `primaryTitle` first and if there are still mismatches we will try then `originalTitle`."
   ],
   "cell_type": "markdown",
   "metadata": {}
  },
  {
   "cell_type": "code",
   "execution_count": 5,
   "metadata": {},
   "outputs": [],
   "source": [
    "cuda_data_dir = \"cuda_data/\"\n",
    "primary_path = cuda_data_dir+\"primaryTitle\"\n",
    "original_path = cuda_data_dir+\"originalTitle\"\n",
    "numbers_path = cuda_data_dir+\"the_numbers\"\n",
    "def hash_and_save_movie(file,movie:str):\n",
    "    name = movie[0:27]\n",
    "    name_hash = md5(movie.lower().encode(\"utf-8\")).hexdigest()\n",
    "    file.write(name_hash)"
   ]
  },
  {
   "source": [
    "\n",
    "#save priamryTItle hases\n",
    "with open(primary_path,\"w\") as f:\n",
    "    for index,row in imdb_df.iterrows():\n",
    "        hash_and_save_movie(f,row.primaryTitle)\n",
    "    f.close()\n",
    "\n",
    "#save originalTitle hases\n",
    "with open(original_path,\"w\") as f:\n",
    "    for index,row in imdb_df.iterrows():\n",
    "        hash_and_save_movie(f,row.originalTitle)\n",
    "    f.close()\n",
    "    \n",
    "#save the-numbers hashes\n",
    "with open(numbers_path,\"w\") as f:\n",
    "    for index,row in thenumbers_df.iterrows():\n",
    "        hash_and_save_movie(f,row.movie)\n",
    "    f.close()\n",
    "\n"
   ],
   "cell_type": "code",
   "metadata": {},
   "execution_count": 6,
   "outputs": []
  },
  {
   "source": [
    "## Matching the Names\n",
    "We use our specially crafted tool using the GPU to compare each hash of each table with one another. The tool \"cudamerge\" will provide an output file that consists of rows where each row represents 'the-numbers' rows and contains all matching movies in the 'imdb' table, where the match is the index of the table."
   ],
   "cell_type": "markdown",
   "metadata": {}
  },
  {
   "source": [
    "cudamerge_path = cuda_data_dir+\"cudamerge\"\n",
    "output_primary_path = cuda_data_dir+\"outputPrimaryMatches\"\n",
    "output_original_path = cuda_data_dir+\"outputOriginalMatches\"\n",
    "subprocess.call([cudamerge_path,primary_path,f\"{imdb_df.shape[0]}\",numbers_path,f\"{thenumbers_df.shape[0]}\",output_primary_path])\n",
    "subprocess.call([cudamerge_path,original_path,f\"{imdb_df.shape[0]}\",numbers_path,f\"{thenumbers_df.shape[0]}\",output_original_path])"
   ],
   "cell_type": "code",
   "metadata": {},
   "execution_count": 7,
   "outputs": [
    {
     "output_type": "execute_result",
     "data": {
      "text/plain": [
       "0"
      ]
     },
     "metadata": {},
     "execution_count": 7
    }
   ]
  },
  {
   "source": [
    "## Importing the output.\n",
    "We will import the output of both original and primary titles and put it in a dictionary where the key is the index of 'the-numbers' table and the value is a list of all matching indicies in 'imdb' table.<br/>\n",
    "We will also skip empty lists (where there is no matching name in IMDB to the-numbers)."
   ],
   "cell_type": "markdown",
   "metadata": {}
  },
  {
   "cell_type": "code",
   "execution_count": 8,
   "metadata": {},
   "outputs": [],
   "source": [
    "def createMatchingEntriesDict(output_path:str):\n",
    "    matching_entries={}\n",
    "    with open(output_path) as file:\n",
    "        rows = file.readlines()\n",
    "        for index in range(len(rows)):\n",
    "            entries = rows[index].split(\" \")[:-1]\n",
    "            if len(entries)!=0:\n",
    "                matching_entries[index]= entries \n",
    "    return matching_entries"
   ]
  },
  {
   "source": [
    "matching_entries=createMatchingEntriesDict(output_primary_path)\n",
    "matching_original_entries=createMatchingEntriesDict(output_original_path)\n",
    "for index,match in matching_original_entries.items():\n",
    "    try:\n",
    "        matching_entries[index]\n",
    "    except:\n",
    "        matching_entries[index]=match"
   ],
   "cell_type": "code",
   "metadata": {},
   "execution_count": 9,
   "outputs": []
  },
  {
   "source": [
    "## Concluding The Matches\n",
    "We have successfully matched 11687 entries from a total of 13625 which is 86% matching. We are satisfied with the results and now can continue merging the data."
   ],
   "cell_type": "markdown",
   "metadata": {}
  },
  {
   "cell_type": "code",
   "execution_count": 10,
   "metadata": {},
   "outputs": [
    {
     "output_type": "execute_result",
     "data": {
      "text/plain": [
       "0.8578452957581095"
      ]
     },
     "metadata": {},
     "execution_count": 10
    }
   ],
   "source": [
    "len(matching_entries)/thenumbers_df.shape[0]"
   ]
  },
  {
   "source": [
    "## Single Matching entries\n",
    "We will start with assigning a 'tconst' value for the indicies in the-numbers that have exactly 1 match.<br/>\n",
    "After the assignment, we will delete this entry (in a copied dict) and then update the main dict again"
   ],
   "cell_type": "markdown",
   "metadata": {}
  },
  {
   "cell_type": "code",
   "execution_count": 11,
   "metadata": {},
   "outputs": [],
   "source": [
    "def copyData(thenumbers_index:int,imdb_index:str):\n",
    "    imdb_index = int(imdb_index)\n",
    "    thenumbers_df.at[thenumbers_index,\"tconst\"] = imdb_df.at[imdb_index,\"tconst\"]\n",
    "    thenumbers_df.at[thenumbers_index,\"genres\"] = imdb_df.at[imdb_index,\"genres\"]\n",
    "    thenumbers_df.at[thenumbers_index,\"runtime\"] = imdb_df.at[imdb_index,\"runtimeMinutes\"]\n",
    "    if int(thenumbers_df.at[thenumbers_index,\"year\"])==0:\n",
    "        thenumbers_df.at[thenumbers_index,\"year\"]=imdb_df.at[imdb_index,\"startYear\"]\n"
   ]
  },
  {
   "cell_type": "code",
   "execution_count": 12,
   "metadata": {
    "tags": []
   },
   "outputs": [],
   "source": [
    "matching_entries_copy = {**matching_entries}\n",
    "for index, matchlist  in matching_entries.items():\n",
    "    if len(matchlist)==1:\n",
    "        copyData(index,matchlist[0])\n",
    "        del matching_entries_copy[index]\n",
    "\n",
    "matching_entries={**matching_entries_copy}\n",
    "del matching_entries_copy"
   ]
  },
  {
   "source": [
    "After this step we are left with 3325 multiple matches"
   ],
   "cell_type": "markdown",
   "metadata": {}
  },
  {
   "cell_type": "code",
   "execution_count": 13,
   "metadata": {},
   "outputs": [
    {
     "output_type": "execute_result",
     "data": {
      "text/plain": [
       "3325"
      ]
     },
     "metadata": {},
     "execution_count": 13
    }
   ],
   "source": [
    "len(matching_entries)"
   ]
  },
  {
   "source": [
    "## Matching same year movies\n",
    "Now we will try to match movies that were released in the same year (and continue handling for multiple movies)"
   ],
   "cell_type": "markdown",
   "metadata": {}
  },
  {
   "cell_type": "code",
   "execution_count": 14,
   "metadata": {
    "tags": []
   },
   "outputs": [],
   "source": [
    "matching_entries_copy = {**matching_entries}\n",
    "same_year_duplicates = {}\n",
    "no_match_duplicates={}\n",
    "for index, entries in matching_entries.items():\n",
    "    try:\n",
    "        year = int(thenumbers_df.at[index,'year'])\n",
    "        tmp_entries=[]\n",
    "        for entry in entries:\n",
    "            entry = int(entry)\n",
    "            if abs(year - imdb_df.at[entry,'startYear'])<=1:\n",
    "                tmp_entries.append(entry)\n",
    "        if len(tmp_entries) == 0:\n",
    "            no_match_duplicates[index]=entries\n",
    "        if len(tmp_entries)>1:\n",
    "            same_year_duplicates[index]=tmp_entries\n",
    "        if len(tmp_entries) == 1:\n",
    "            copyData(index,tmp_entries[0])\n",
    "        del matching_entries_copy[index]\n",
    "    except: pass\n",
    "matching_entries={**matching_entries_copy}\n",
    "del matching_entries_copy"
   ]
  },
  {
   "source": [
    "## Manual Matching\n",
    "After the automatic matching, we are left with many results that require manual handling because various reasos such as domestic vs worldwide release or movie names mismatch...\n",
    "Due to time limits we will not refine the matching further and we are left with the results above as the final dataset.\n",
    "\n",
    "Here a a few examples of how we would have done it, but there are almost 500 results that require manual handling..."
   ],
   "cell_type": "markdown",
   "metadata": {}
  },
  {
   "cell_type": "code",
   "execution_count": 15,
   "metadata": {},
   "outputs": [],
   "source": [
    "def printIMDBDetails(loc:int):\n",
    "    row = imdb_df.iloc[loc]\n",
    "    print(f\"{row.tconst}\\t | {row.primaryTitle} | {row.originalTitle} | {row.startYear} | {row.runtimeMinutes}\")\n",
    "def printTheNumbersDetails(loc:int):\n",
    "    row = thenumbers_df.iloc[loc]\n",
    "    print(f\"[{loc}] | {row.movie} | {row.day}/{row.month}/{row.year} | {row.dist} | {row.link}\")\n",
    "\n",
    "data={ }\n",
    "\n",
    "for index,values in data.items():\n",
    "    printTheNumbersDetails(index)\n",
    "    \n",
    "    for v in values:\n",
    "        printIMDBDetails(int(v))\n",
    "    print(\"\\n\")\n"
   ]
  },
  {
   "cell_type": "code",
   "execution_count": 16,
   "metadata": {},
   "outputs": [],
   "source": [
    "#fixing data\n",
    "\n",
    "#Leon \n",
    "\n",
    "fixes = {\n",
    "    13:\"tt0042803\",\n",
    "    43:\"tt0063794\",\n",
    "    88:\"tt0082307\",\n",
    "    151:\"tt0110413\",\n",
    "    158:\"tt0111495\",\n",
    "    292:\"tt0110877\"\n",
    "    }\n",
    "\n",
    "for index, tconst in fixes.items():\n",
    "    try:\n",
    "        del no_match_duplicates[index]\n",
    "        thenumbers_df.at[index,\"tconst\"]=tconst\n",
    "    except:\n",
    "        #print(index)\n",
    "        pass"
   ]
  },
  {
   "cell_type": "code",
   "execution_count": 17,
   "metadata": {},
   "outputs": [
    {
     "output_type": "execute_result",
     "data": {
      "text/plain": [
       "311"
      ]
     },
     "metadata": {},
     "execution_count": 17
    }
   ],
   "source": [
    "len(no_match_duplicates)"
   ]
  },
  {
   "source": [
    "## Assigning IMDB's Genres to the-numbers\n",
    "The genres in IMDB are more specific so we'll use them\n",
    "we will also drop the hashed id because we have the tconst values refering to IMDB."
   ],
   "cell_type": "markdown",
   "metadata": {}
  },
  {
   "source": [
    "thenumbers_df=thenumbers_df.drop(\"id\",1)\n",
    "thenumbers_df=thenumbers_df[thenumbers_df.tconst!=\"\"]"
   ],
   "cell_type": "code",
   "metadata": {},
   "execution_count": 18,
   "outputs": []
  },
  {
   "cell_type": "code",
   "execution_count": 19,
   "metadata": {},
   "outputs": [
    {
     "output_type": "execute_result",
     "data": {
      "text/plain": [
       "          tconst                movie  \\\n",
       "0      tt0017162                Moana   \n",
       "1      tt0017136           Metropolis   \n",
       "2      tt0028950   La Grande Illusion   \n",
       "3      tt0034465       Arabian Nights   \n",
       "4      tt0037638               Detour   \n",
       "...          ...                  ...   \n",
       "13621  tt2554270               Ta-weo   \n",
       "13622  tt1935896    The ABCs of Death   \n",
       "13623  tt2446600       Next Goal Wins   \n",
       "13624  tt9691136  Shadow in the Cloud   \n",
       "13625  tt9902160              Herself   \n",
       "\n",
       "                                                link runtime  \\\n",
       "0                  /movie/Moana-(Documentary)-(1926)      77   \n",
       "1                 /movie/Metropolis-(Germany)-(1927)     153   \n",
       "2                          /movie/Grande-Illusion-La     113   \n",
       "3                              /movie/Arabian-Nights      86   \n",
       "4                               /movie/Detour-(1945)      68   \n",
       "...                                              ...     ...   \n",
       "13621                                  /movie/Ta-Weo     121   \n",
       "13622                       /movie/ABCs-of-Death-The     129   \n",
       "13623                          /movie/Next-Goal-Wins      97   \n",
       "13624  /movie/Shadow-in-the-Cloud-(2020-New-Zealand)      83   \n",
       "13625                            /movie/Herself-(UK)      97   \n",
       "\n",
       "                        genres day month  year                dist  \\\n",
       "0                  Documentary  07    01  1926  Paramount Pictures   \n",
       "1                 Drama,Sci-Fi  13    03  1927  Paramount Pictures   \n",
       "2                    Drama,War  12    09  1938     Rialto Pictures   \n",
       "3      Action,Adventure,Comedy  25    12  1942           Universal   \n",
       "4        Crime,Drama,Film-Noir  30    11  1945  Producers Releasi…   \n",
       "...                        ...  ..   ...   ...                 ...   \n",
       "13621    Action,Drama,Thriller  00    00  2012                 NaN   \n",
       "13622            Comedy,Horror  00    00  2012                 NaN   \n",
       "13623        Documentary,Sport  00    00  2014                 NaN   \n",
       "13624        Action,Horror,War  00    00  2020                 NaN   \n",
       "13625                    Drama  00    00  2020                 NaN   \n",
       "\n",
       "       gross_1995  ...  tickets_2011  tickets_2012  tickets_2013  \\\n",
       "0             NaN  ...           NaN           NaN           NaN   \n",
       "1             NaN  ...       70165.0           NaN           NaN   \n",
       "2             NaN  ...           NaN        9000.0           NaN   \n",
       "3             NaN  ...           NaN           NaN           NaN   \n",
       "4             NaN  ...           NaN           NaN           NaN   \n",
       "...           ...  ...           ...           ...           ...   \n",
       "13621         NaN  ...           NaN          91.0           NaN   \n",
       "13622         NaN  ...           NaN           NaN        2685.0   \n",
       "13623         NaN  ...           NaN           NaN           NaN   \n",
       "13624         NaN  ...           NaN           NaN           NaN   \n",
       "13625         NaN  ...           NaN           NaN           NaN   \n",
       "\n",
       "       tickets_2014  tickets_2015  tickets_2016  tickets_2017  tickets_2018  \\\n",
       "0               NaN           NaN         346.0           NaN           NaN   \n",
       "1               NaN           NaN           NaN           NaN           NaN   \n",
       "2               NaN           NaN           NaN           NaN           NaN   \n",
       "3               NaN           NaN         429.0           NaN           NaN   \n",
       "4               NaN           NaN           NaN           NaN        1606.0   \n",
       "...             ...           ...           ...           ...           ...   \n",
       "13621           NaN           NaN           NaN           NaN           NaN   \n",
       "13622           NaN           NaN           NaN           NaN           NaN   \n",
       "13623        5274.0           NaN           NaN           NaN           NaN   \n",
       "13624           NaN           NaN           NaN           NaN           NaN   \n",
       "13625           NaN           NaN           NaN           NaN           NaN   \n",
       "\n",
       "       tickets_2019  tickets_2020  \n",
       "0               NaN           NaN  \n",
       "1               NaN           NaN  \n",
       "2               NaN           NaN  \n",
       "3               NaN           NaN  \n",
       "4             168.0           NaN  \n",
       "...             ...           ...  \n",
       "13621           NaN           NaN  \n",
       "13622           NaN           NaN  \n",
       "13623           NaN           NaN  \n",
       "13624           NaN        4270.0  \n",
       "13625           NaN         655.0  \n",
       "\n",
       "[10852 rows x 61 columns]"
      ],
      "text/html": "<div>\n<style scoped>\n    .dataframe tbody tr th:only-of-type {\n        vertical-align: middle;\n    }\n\n    .dataframe tbody tr th {\n        vertical-align: top;\n    }\n\n    .dataframe thead th {\n        text-align: right;\n    }\n</style>\n<table border=\"1\" class=\"dataframe\">\n  <thead>\n    <tr style=\"text-align: right;\">\n      <th></th>\n      <th>tconst</th>\n      <th>movie</th>\n      <th>link</th>\n      <th>runtime</th>\n      <th>genres</th>\n      <th>day</th>\n      <th>month</th>\n      <th>year</th>\n      <th>dist</th>\n      <th>gross_1995</th>\n      <th>...</th>\n      <th>tickets_2011</th>\n      <th>tickets_2012</th>\n      <th>tickets_2013</th>\n      <th>tickets_2014</th>\n      <th>tickets_2015</th>\n      <th>tickets_2016</th>\n      <th>tickets_2017</th>\n      <th>tickets_2018</th>\n      <th>tickets_2019</th>\n      <th>tickets_2020</th>\n    </tr>\n  </thead>\n  <tbody>\n    <tr>\n      <th>0</th>\n      <td>tt0017162</td>\n      <td>Moana</td>\n      <td>/movie/Moana-(Documentary)-(1926)</td>\n      <td>77</td>\n      <td>Documentary</td>\n      <td>07</td>\n      <td>01</td>\n      <td>1926</td>\n      <td>Paramount Pictures</td>\n      <td>NaN</td>\n      <td>...</td>\n      <td>NaN</td>\n      <td>NaN</td>\n      <td>NaN</td>\n      <td>NaN</td>\n      <td>NaN</td>\n      <td>346.0</td>\n      <td>NaN</td>\n      <td>NaN</td>\n      <td>NaN</td>\n      <td>NaN</td>\n    </tr>\n    <tr>\n      <th>1</th>\n      <td>tt0017136</td>\n      <td>Metropolis</td>\n      <td>/movie/Metropolis-(Germany)-(1927)</td>\n      <td>153</td>\n      <td>Drama,Sci-Fi</td>\n      <td>13</td>\n      <td>03</td>\n      <td>1927</td>\n      <td>Paramount Pictures</td>\n      <td>NaN</td>\n      <td>...</td>\n      <td>70165.0</td>\n      <td>NaN</td>\n      <td>NaN</td>\n      <td>NaN</td>\n      <td>NaN</td>\n      <td>NaN</td>\n      <td>NaN</td>\n      <td>NaN</td>\n      <td>NaN</td>\n      <td>NaN</td>\n    </tr>\n    <tr>\n      <th>2</th>\n      <td>tt0028950</td>\n      <td>La Grande Illusion</td>\n      <td>/movie/Grande-Illusion-La</td>\n      <td>113</td>\n      <td>Drama,War</td>\n      <td>12</td>\n      <td>09</td>\n      <td>1938</td>\n      <td>Rialto Pictures</td>\n      <td>NaN</td>\n      <td>...</td>\n      <td>NaN</td>\n      <td>9000.0</td>\n      <td>NaN</td>\n      <td>NaN</td>\n      <td>NaN</td>\n      <td>NaN</td>\n      <td>NaN</td>\n      <td>NaN</td>\n      <td>NaN</td>\n      <td>NaN</td>\n    </tr>\n    <tr>\n      <th>3</th>\n      <td>tt0034465</td>\n      <td>Arabian Nights</td>\n      <td>/movie/Arabian-Nights</td>\n      <td>86</td>\n      <td>Action,Adventure,Comedy</td>\n      <td>25</td>\n      <td>12</td>\n      <td>1942</td>\n      <td>Universal</td>\n      <td>NaN</td>\n      <td>...</td>\n      <td>NaN</td>\n      <td>NaN</td>\n      <td>NaN</td>\n      <td>NaN</td>\n      <td>NaN</td>\n      <td>429.0</td>\n      <td>NaN</td>\n      <td>NaN</td>\n      <td>NaN</td>\n      <td>NaN</td>\n    </tr>\n    <tr>\n      <th>4</th>\n      <td>tt0037638</td>\n      <td>Detour</td>\n      <td>/movie/Detour-(1945)</td>\n      <td>68</td>\n      <td>Crime,Drama,Film-Noir</td>\n      <td>30</td>\n      <td>11</td>\n      <td>1945</td>\n      <td>Producers Releasi…</td>\n      <td>NaN</td>\n      <td>...</td>\n      <td>NaN</td>\n      <td>NaN</td>\n      <td>NaN</td>\n      <td>NaN</td>\n      <td>NaN</td>\n      <td>NaN</td>\n      <td>NaN</td>\n      <td>1606.0</td>\n      <td>168.0</td>\n      <td>NaN</td>\n    </tr>\n    <tr>\n      <th>...</th>\n      <td>...</td>\n      <td>...</td>\n      <td>...</td>\n      <td>...</td>\n      <td>...</td>\n      <td>...</td>\n      <td>...</td>\n      <td>...</td>\n      <td>...</td>\n      <td>...</td>\n      <td>...</td>\n      <td>...</td>\n      <td>...</td>\n      <td>...</td>\n      <td>...</td>\n      <td>...</td>\n      <td>...</td>\n      <td>...</td>\n      <td>...</td>\n      <td>...</td>\n      <td>...</td>\n    </tr>\n    <tr>\n      <th>13621</th>\n      <td>tt2554270</td>\n      <td>Ta-weo</td>\n      <td>/movie/Ta-Weo</td>\n      <td>121</td>\n      <td>Action,Drama,Thriller</td>\n      <td>00</td>\n      <td>00</td>\n      <td>2012</td>\n      <td>NaN</td>\n      <td>NaN</td>\n      <td>...</td>\n      <td>NaN</td>\n      <td>91.0</td>\n      <td>NaN</td>\n      <td>NaN</td>\n      <td>NaN</td>\n      <td>NaN</td>\n      <td>NaN</td>\n      <td>NaN</td>\n      <td>NaN</td>\n      <td>NaN</td>\n    </tr>\n    <tr>\n      <th>13622</th>\n      <td>tt1935896</td>\n      <td>The ABCs of Death</td>\n      <td>/movie/ABCs-of-Death-The</td>\n      <td>129</td>\n      <td>Comedy,Horror</td>\n      <td>00</td>\n      <td>00</td>\n      <td>2012</td>\n      <td>NaN</td>\n      <td>NaN</td>\n      <td>...</td>\n      <td>NaN</td>\n      <td>NaN</td>\n      <td>2685.0</td>\n      <td>NaN</td>\n      <td>NaN</td>\n      <td>NaN</td>\n      <td>NaN</td>\n      <td>NaN</td>\n      <td>NaN</td>\n      <td>NaN</td>\n    </tr>\n    <tr>\n      <th>13623</th>\n      <td>tt2446600</td>\n      <td>Next Goal Wins</td>\n      <td>/movie/Next-Goal-Wins</td>\n      <td>97</td>\n      <td>Documentary,Sport</td>\n      <td>00</td>\n      <td>00</td>\n      <td>2014</td>\n      <td>NaN</td>\n      <td>NaN</td>\n      <td>...</td>\n      <td>NaN</td>\n      <td>NaN</td>\n      <td>NaN</td>\n      <td>5274.0</td>\n      <td>NaN</td>\n      <td>NaN</td>\n      <td>NaN</td>\n      <td>NaN</td>\n      <td>NaN</td>\n      <td>NaN</td>\n    </tr>\n    <tr>\n      <th>13624</th>\n      <td>tt9691136</td>\n      <td>Shadow in the Cloud</td>\n      <td>/movie/Shadow-in-the-Cloud-(2020-New-Zealand)</td>\n      <td>83</td>\n      <td>Action,Horror,War</td>\n      <td>00</td>\n      <td>00</td>\n      <td>2020</td>\n      <td>NaN</td>\n      <td>NaN</td>\n      <td>...</td>\n      <td>NaN</td>\n      <td>NaN</td>\n      <td>NaN</td>\n      <td>NaN</td>\n      <td>NaN</td>\n      <td>NaN</td>\n      <td>NaN</td>\n      <td>NaN</td>\n      <td>NaN</td>\n      <td>4270.0</td>\n    </tr>\n    <tr>\n      <th>13625</th>\n      <td>tt9902160</td>\n      <td>Herself</td>\n      <td>/movie/Herself-(UK)</td>\n      <td>97</td>\n      <td>Drama</td>\n      <td>00</td>\n      <td>00</td>\n      <td>2020</td>\n      <td>NaN</td>\n      <td>NaN</td>\n      <td>...</td>\n      <td>NaN</td>\n      <td>NaN</td>\n      <td>NaN</td>\n      <td>NaN</td>\n      <td>NaN</td>\n      <td>NaN</td>\n      <td>NaN</td>\n      <td>NaN</td>\n      <td>NaN</td>\n      <td>655.0</td>\n    </tr>\n  </tbody>\n</table>\n<p>10852 rows × 61 columns</p>\n</div>"
     },
     "metadata": {},
     "execution_count": 19
    }
   ],
   "source": [
    "thenumbers_df"
   ]
  },
  {
   "source": [
    "## Concluding the merge\n",
    "We are finally left with the last table we will use further on. This table consists of the tconst and genres from IMDB and has the grossing info from 'the-numbers' website.\n",
    "We will save it and on the next notebook open it to learn some information about it visually."
   ],
   "cell_type": "markdown",
   "metadata": {}
  },
  {
   "cell_type": "code",
   "execution_count": 20,
   "metadata": {},
   "outputs": [],
   "source": [
    "thenumbers_df.to_csv(\"./output_data/final_table.csv\")"
   ]
  }
 ]
}